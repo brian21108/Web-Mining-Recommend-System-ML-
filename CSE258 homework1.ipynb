{
 "cells": [
  {
   "cell_type": "code",
   "execution_count": 2,
   "id": "a981d961",
   "metadata": {},
   "outputs": [],
   "source": [
    "import numpy as np  #linear algebra\n",
    "import scipy.optimize\n",
    "import random\n",
    "import ast"
   ]
  },
  {
   "cell_type": "code",
   "execution_count": 3,
   "id": "00dfc31a",
   "metadata": {},
   "outputs": [],
   "source": [
    "def parseDataFromFile(fname):\n",
    "    for l in open(fname):\n",
    "        yield eval(l)"
   ]
  },
  {
   "cell_type": "code",
   "execution_count": 190,
   "id": "e95f8b89",
   "metadata": {},
   "outputs": [],
   "source": [
    "data = list(parseDataFromFile('data/fantasy_10000.json'))"
   ]
  },
  {
   "cell_type": "code",
   "execution_count": 191,
   "id": "c627f135",
   "metadata": {},
   "outputs": [
    {
     "data": {
      "text/plain": [
       "{'user_id': '8842281e1d1347389f2ab93d60773d4d',\n",
       " 'book_id': '18245960',\n",
       " 'review_id': 'dfdbb7b0eb5a7e4c26d59a937e2e5feb',\n",
       " 'rating': 5,\n",
       " 'review_text': 'This is a special book. It started slow for about the first third, then in the middle third it started to get interesting, then the last third blew my mind. This is what I love about good science fiction - it pushes your thinking about where things can go. \\n It is a 2015 Hugo winner, and translated from its original Chinese, which made it interesting in just a different way from most things I\\'ve read. For instance the intermixing of Chinese revolutionary history - how they kept accusing people of being \"reactionaries\", etc. \\n It is a book about science, and aliens. The science described in the book is impressive - its a book grounded in physics and pretty accurate as far as I could tell. Though when it got to folding protons into 8 dimensions I think he was just making stuff up - interesting to think about though. \\n But what would happen if our SETI stations received a message - if we found someone was out there - and the person monitoring and answering the signal on our side was disillusioned? That part of the book was a bit dark - I would like to think human reaction to discovering alien civilization that is hostile would be more like Enders Game where we would band together. \\n I did like how the book unveiled the Trisolaran culture through the game. It was a smart way to build empathy with them and also understand what they\\'ve gone through across so many centuries. And who know a 3 body problem was an unsolvable math problem? But I still don\\'t get who made the game - maybe that will come in the next book. \\n I loved this quote: \\n \"In the long history of scientific progress, how many protons have been smashed apart in accelerators by physicists? How many neutrons and electrons? Probably no fewer than a hundred million. Every collision was probably the end of the civilizations and intelligences in a microcosmos. In fact, even in nature, the destruction of universes must be happening at every second--for example, through the decay of neutrons. Also, a high-energy cosmic ray entering the atmosphere may destroy thousands of such miniature universes....\"',\n",
       " 'date_added': 'Sun Jul 30 07:44:10 -0700 2017',\n",
       " 'date_updated': 'Wed Aug 30 00:00:26 -0700 2017',\n",
       " 'read_at': 'Sat Aug 26 12:05:52 -0700 2017',\n",
       " 'started_at': 'Tue Aug 15 13:23:18 -0700 2017',\n",
       " 'n_votes': 28,\n",
       " 'n_comments': 1}"
      ]
     },
     "execution_count": 191,
     "metadata": {},
     "output_type": "execute_result"
    }
   ],
   "source": [
    "data[0]    # check structure of data"
   ]
  },
  {
   "cell_type": "markdown",
   "id": "d10c5698",
   "metadata": {},
   "source": [
    "Question 2"
   ]
  },
  {
   "cell_type": "code",
   "execution_count": 192,
   "id": "0ae4fc2f",
   "metadata": {},
   "outputs": [],
   "source": [
    "def feature_single(datum):\n",
    "    f = [1]\n",
    "    f.append(len(datum['review_text']))\n",
    "    return f"
   ]
  },
  {
   "cell_type": "code",
   "execution_count": 193,
   "id": "459fc1a4",
   "metadata": {},
   "outputs": [],
   "source": [
    "Xs = [feature_single(d) for d in data]     #generate feature vector\n",
    "ys = [d['rating'] for d in data]"
   ]
  },
  {
   "cell_type": "code",
   "execution_count": 194,
   "id": "2f2cca27",
   "metadata": {},
   "outputs": [
    {
     "name": "stderr",
     "output_type": "stream",
     "text": [
      "<ipython-input-194-a68a1c2f681d>:1: FutureWarning: `rcond` parameter will change to the default of machine precision times ``max(M, N)`` where M and N are the input matrix dimensions.\n",
      "To use the future default and silence this warning we advise to pass `rcond=None`, to keep using the old, explicitly pass `rcond=-1`.\n",
      "  theta,residuals,rank,s = np.linalg.lstsq(Xs,ys)\n"
     ]
    },
    {
     "data": {
      "text/plain": [
       "array([3.68568136e+00, 6.87371675e-05])"
      ]
     },
     "execution_count": 194,
     "metadata": {},
     "output_type": "execute_result"
    }
   ],
   "source": [
    "theta,residuals,rank,s = np.linalg.lstsq(Xs,ys)\n",
    "theta    #report θ0 and θ1"
   ]
  },
  {
   "cell_type": "code",
   "execution_count": 195,
   "id": "0dc7aad4",
   "metadata": {},
   "outputs": [
    {
     "data": {
      "text/plain": [
       "array([1.55220866])"
      ]
     },
     "execution_count": 195,
     "metadata": {},
     "output_type": "execute_result"
    }
   ],
   "source": [
    "MSE = residuals / 10000\n",
    "MSE    #report MSE"
   ]
  },
  {
   "cell_type": "code",
   "execution_count": null,
   "id": "b10b1185",
   "metadata": {},
   "outputs": [],
   "source": []
  },
  {
   "cell_type": "markdown",
   "id": "49cb4df9",
   "metadata": {},
   "source": [
    "Question 3"
   ]
  },
  {
   "cell_type": "code",
   "execution_count": 196,
   "id": "ea3934be",
   "metadata": {},
   "outputs": [],
   "source": [
    "def feature(datum):\n",
    "    f = [1]\n",
    "    f.append(len(datum['review_text']))\n",
    "    t = dateutil.parser.parse(datum['date_added'])\n",
    "    m = [0,0,0,0,0,0]\n",
    "    if t.weekday() == 0:\n",
    "        f.extend(m)\n",
    "    else:\n",
    "        m[t.weekday()-1] = 1\n",
    "        f.extend(m)\n",
    "    n = [0,0,0,0,0,0,0,0,0,0,0]\n",
    "    if t.year == 2006:\n",
    "        f.extend(n)\n",
    "    else:\n",
    "        n[t.year - 2007] = 1\n",
    "        f.extend(n)\n",
    "    return f"
   ]
  },
  {
   "cell_type": "code",
   "execution_count": 197,
   "id": "449cbd96",
   "metadata": {},
   "outputs": [],
   "source": [
    "X = [feature(d) for d in data]"
   ]
  },
  {
   "cell_type": "code",
   "execution_count": 198,
   "id": "bde55fad",
   "metadata": {},
   "outputs": [
    {
     "data": {
      "text/plain": [
       "[[1, 2086, 0, 0, 0, 0, 0, 1, 0, 0, 0, 0, 0, 0, 0, 0, 0, 0, 1],\n",
       " [1, 1521, 0, 1, 0, 0, 0, 0, 0, 0, 0, 0, 0, 0, 0, 1, 0, 0, 0]]"
      ]
     },
     "execution_count": 198,
     "metadata": {},
     "output_type": "execute_result"
    }
   ],
   "source": [
    "X[:2]     #feature vector of first two examples"
   ]
  },
  {
   "cell_type": "code",
   "execution_count": null,
   "id": "7b3ac015",
   "metadata": {},
   "outputs": [],
   "source": []
  },
  {
   "cell_type": "markdown",
   "id": "acc2cf7a",
   "metadata": {},
   "source": [
    "Question 4"
   ]
  },
  {
   "cell_type": "code",
   "execution_count": 199,
   "id": "73c83c10",
   "metadata": {},
   "outputs": [
    {
     "name": "stderr",
     "output_type": "stream",
     "text": [
      "<ipython-input-199-4c5121dabb9b>:3: FutureWarning: `rcond` parameter will change to the default of machine precision times ``max(M, N)`` where M and N are the input matrix dimensions.\n",
      "To use the future default and silence this warning we advise to pass `rcond=None`, to keep using the old, explicitly pass `rcond=-1`.\n",
      "  theta,residuals,rank,s = np.linalg.lstsq(X,y)\n"
     ]
    },
    {
     "data": {
      "text/plain": [
       "array([ 4.87171479e+00,  5.15709386e-05,  4.89003441e-02,  1.45709798e-01,\n",
       "        1.06646403e-01,  1.26168316e-01,  3.83417660e-02,  1.02846903e-01,\n",
       "       -1.58244783e+00, -1.70447417e+00, -1.68316056e+00, -1.67023905e+00,\n",
       "       -1.62877001e+00, -1.19956705e+00, -1.10444816e+00, -1.09162361e+00,\n",
       "       -1.20861354e+00, -1.23647487e+00, -1.23331225e+00])"
      ]
     },
     "execution_count": 199,
     "metadata": {},
     "output_type": "execute_result"
    }
   ],
   "source": [
    "y = [d['rating'] for d in data]     #one-hot encoding model\n",
    "theta,residuals,rank,s = np.linalg.lstsq(X,y)\n",
    "theta    #theta of one-hot encoding model"
   ]
  },
  {
   "cell_type": "code",
   "execution_count": 200,
   "id": "a56fe06b",
   "metadata": {},
   "outputs": [
    {
     "data": {
      "text/plain": [
       "array([1.51235787])"
      ]
     },
     "execution_count": 200,
     "metadata": {},
     "output_type": "execute_result"
    }
   ],
   "source": [
    "MSE = residuals / 10000\n",
    "MSE     #MSE of one-hot encoding model"
   ]
  },
  {
   "cell_type": "code",
   "execution_count": 201,
   "id": "7049603a",
   "metadata": {},
   "outputs": [],
   "source": [
    "# use the weekday and year values directly as features\n",
    "def feature_direct(datum):\n",
    "    f = [1]\n",
    "    f.append(len(datum['review_text']))\n",
    "    t = dateutil.parser.parse(datum['date_added'])\n",
    "    f.append(t.weekday())\n",
    "    f.append(t.year)\n",
    "    return f"
   ]
  },
  {
   "cell_type": "code",
   "execution_count": 202,
   "id": "c153a41c",
   "metadata": {},
   "outputs": [
    {
     "name": "stderr",
     "output_type": "stream",
     "text": [
      "<ipython-input-202-798ff6c695af>:3: FutureWarning: `rcond` parameter will change to the default of machine precision times ``max(M, N)`` where M and N are the input matrix dimensions.\n",
      "To use the future default and silence this warning we advise to pass `rcond=None`, to keep using the old, explicitly pass `rcond=-1`.\n",
      "  theta,residuals,rank,s = np.linalg.lstsq(Xd,yd)\n"
     ]
    },
    {
     "data": {
      "text/plain": [
       "array([-1.01742461e+02,  5.50923292e-05,  8.75072300e-03,  5.23592268e-02])"
      ]
     },
     "execution_count": 202,
     "metadata": {},
     "output_type": "execute_result"
    }
   ],
   "source": [
    "Xd = [feature_direct(d) for d in data]\n",
    "yd = [d['rating'] for d in data]\n",
    "theta,residuals,rank,s = np.linalg.lstsq(Xd,yd)\n",
    "theta    #theta of model with weekday and year values directly as features"
   ]
  },
  {
   "cell_type": "code",
   "execution_count": 203,
   "id": "cf082dd3",
   "metadata": {},
   "outputs": [
    {
     "data": {
      "text/plain": [
       "array([1.53677405])"
      ]
     },
     "execution_count": 203,
     "metadata": {},
     "output_type": "execute_result"
    }
   ],
   "source": [
    "MSE = residuals / 10000\n",
    "MSE      #MSE of model with weekday and year values directly as features"
   ]
  },
  {
   "cell_type": "code",
   "execution_count": null,
   "id": "eee90c75",
   "metadata": {},
   "outputs": [],
   "source": []
  },
  {
   "cell_type": "markdown",
   "id": "de3c2503",
   "metadata": {},
   "source": [
    "Question 5"
   ]
  },
  {
   "cell_type": "code",
   "execution_count": 204,
   "id": "689bb45f",
   "metadata": {},
   "outputs": [],
   "source": [
    "#import package to split data\n",
    "from sklearn.model_selection import train_test_split    "
   ]
  },
  {
   "cell_type": "code",
   "execution_count": 205,
   "id": "4e32ad77",
   "metadata": {},
   "outputs": [
    {
     "data": {
      "text/plain": [
       "[[1, 274, 0, 0, 0, 0, 1, 0, 0, 0, 0, 0, 0, 0, 0, 0, 0, 1, 0],\n",
       " [1, 23, 0, 1, 0, 0, 0, 0, 0, 0, 0, 0, 0, 0, 0, 0, 0, 1, 0],\n",
       " [1, 95, 0, 1, 0, 0, 0, 0, 0, 0, 1, 0, 0, 0, 0, 0, 0, 0, 0],\n",
       " [1, 39, 0, 0, 0, 0, 0, 0, 0, 0, 0, 0, 0, 0, 1, 0, 0, 0, 0],\n",
       " [1, 140, 0, 0, 0, 0, 0, 1, 0, 0, 0, 0, 0, 0, 0, 0, 0, 1, 0],\n",
       " [1, 212, 0, 0, 0, 0, 0, 0, 0, 1, 0, 0, 0, 0, 0, 0, 0, 0, 0],\n",
       " [1, 160, 0, 1, 0, 0, 0, 0, 0, 0, 0, 0, 0, 0, 0, 0, 1, 0, 0],\n",
       " [1, 3821, 0, 0, 1, 0, 0, 0, 0, 0, 0, 0, 0, 0, 0, 0, 0, 0, 1],\n",
       " [1, 429, 0, 1, 0, 0, 0, 0, 0, 0, 0, 0, 0, 0, 0, 1, 0, 0, 0],\n",
       " [1, 692, 0, 0, 0, 0, 0, 0, 0, 0, 0, 0, 0, 0, 0, 0, 0, 1, 0]]"
      ]
     },
     "execution_count": 205,
     "metadata": {},
     "output_type": "execute_result"
    }
   ],
   "source": [
    "#for one-hot encoding model\n",
    "#split one-hot encoing data\n",
    "X_train_1, X_test_1, y_train_1, y_test_1 = train_test_split(X,y, test_size = 0.5)\n",
    "X_train_1[:10]"
   ]
  },
  {
   "cell_type": "code",
   "execution_count": 206,
   "id": "85cc32c3",
   "metadata": {},
   "outputs": [
    {
     "data": {
      "text/plain": [
       "(5000, 19)"
      ]
     },
     "execution_count": 206,
     "metadata": {},
     "output_type": "execute_result"
    }
   ],
   "source": [
    "X_train_1 = np.array(X_train_1)\n",
    "X_test_1 = np.array(X_test_1) \n",
    "y_train_1 = np.array(y_train_1) \n",
    "y_test_1 = np.array(y_test_1)\n",
    "X_train_1.shape"
   ]
  },
  {
   "cell_type": "code",
   "execution_count": 207,
   "id": "2442e48a",
   "metadata": {},
   "outputs": [
    {
     "data": {
      "text/plain": [
       "LinearRegression(fit_intercept=False)"
      ]
     },
     "execution_count": 207,
     "metadata": {},
     "output_type": "execute_result"
    }
   ],
   "source": [
    "from sklearn import linear_model\n",
    "from sklearn.metrics import mean_squared_error\n",
    "model = linear_model.LinearRegression(fit_intercept=False)\n",
    "model.fit(X_train_1,y_train_1)   # train the one-hot encoding model"
   ]
  },
  {
   "cell_type": "code",
   "execution_count": 208,
   "id": "eea62cfb",
   "metadata": {},
   "outputs": [
    {
     "data": {
      "text/plain": [
       "1.5228347588233306"
      ]
     },
     "execution_count": 208,
     "metadata": {},
     "output_type": "execute_result"
    }
   ],
   "source": [
    "y_train_1_predict = model.predict(X_train_1)  # predict with one-hot encoding\n",
    "MSE = mean_squared_error(y_train_1, y_train_1_predict)\n",
    "MSE      # MSE of one-hot encoding model of train set"
   ]
  },
  {
   "cell_type": "code",
   "execution_count": 209,
   "id": "4939ed35",
   "metadata": {},
   "outputs": [
    {
     "data": {
      "text/plain": [
       "1.5062777490946602"
      ]
     },
     "execution_count": 209,
     "metadata": {},
     "output_type": "execute_result"
    }
   ],
   "source": [
    "y_1_predict = model.predict(X_test_1)\n",
    "MSE = mean_squared_error(y_test_1, y_1_predict)\n",
    "MSE     # MSE of one-hot encoding model of test set"
   ]
  },
  {
   "cell_type": "code",
   "execution_count": 210,
   "id": "ef7515a5",
   "metadata": {},
   "outputs": [
    {
     "data": {
      "text/plain": [
       "(5000, 4)"
      ]
     },
     "execution_count": 210,
     "metadata": {},
     "output_type": "execute_result"
    }
   ],
   "source": [
    "# split easy_model data\n",
    "X_train_2, X_test_2, y_train_2, y_test_2 = train_test_split(Xd,yd, test_size = 0.5)\n",
    "X_train_2 = np.array(X_train_2)\n",
    "X_test_2 = np.array(X_test_2) \n",
    "y_train_2 = np.array(y_train_2) \n",
    "y_test_2 = np.array(y_test_2)\n",
    "X_train_2.shape"
   ]
  },
  {
   "cell_type": "code",
   "execution_count": 211,
   "id": "26fa15cf",
   "metadata": {},
   "outputs": [
    {
     "data": {
      "text/plain": [
       "1.4930886960849377"
      ]
     },
     "execution_count": 211,
     "metadata": {},
     "output_type": "execute_result"
    }
   ],
   "source": [
    "model = linear_model.LinearRegression(fit_intercept=False)\n",
    "model.fit(X_train_2,y_train_2)       # train the easy model\n",
    "y_train_2_predict = model.predict(X_train_2)\n",
    "MSE = mean_squared_error(y_train_2, y_train_2_predict)\n",
    "MSE        # MSE of model with weekday and year values directly as features of train set"
   ]
  },
  {
   "cell_type": "code",
   "execution_count": 212,
   "id": "3e085355",
   "metadata": {},
   "outputs": [
    {
     "data": {
      "text/plain": [
       "1.5821906919022972"
      ]
     },
     "execution_count": 212,
     "metadata": {},
     "output_type": "execute_result"
    }
   ],
   "source": [
    "y_2_predict = model.predict(X_test_2)\n",
    "MSE = mean_squared_error(y_test_2, y_2_predict)\n",
    "MSE  # MSE of model with weekday and year values directly as features of test set"
   ]
  },
  {
   "cell_type": "code",
   "execution_count": null,
   "id": "ea369c37",
   "metadata": {},
   "outputs": [],
   "source": []
  },
  {
   "attachments": {
    "14b033ef-fc03-4cd5-97a0-3614d66c6b4f.jpeg": {
     "image/jpeg": "[encoded data removed]"
    }
   },
   "cell_type": "markdown",
   "id": "fed0fb7a",
   "metadata": {},
   "source": [
    "Question 6 \n",
    "![cse_258_hw1_q6.jpeg](attachment:14b033ef-fc03-4cd5-97a0-3614d66c6b4f.jpeg)"
   ]
  },
  {
   "cell_type": "code",
   "execution_count": null,
   "id": "ce726b22",
   "metadata": {},
   "outputs": [],
   "source": []
  },
  {
   "cell_type": "code",
   "execution_count": null,
   "id": "b25aa8b9",
   "metadata": {},
   "outputs": [],
   "source": []
  },
  {
   "cell_type": "markdown",
   "id": "267308f1",
   "metadata": {},
   "source": [
    "WEEK 2"
   ]
  },
  {
   "cell_type": "markdown",
   "id": "65790730",
   "metadata": {},
   "source": [
    "Question 7"
   ]
  },
  {
   "cell_type": "code",
   "execution_count": 5,
   "id": "ad8da847",
   "metadata": {},
   "outputs": [],
   "source": [
    "data = list(parseDataFromFile('beer_50000.json'))"
   ]
  },
  {
   "cell_type": "code",
   "execution_count": 6,
   "id": "d7675a3c",
   "metadata": {},
   "outputs": [
    {
     "data": {
      "text/plain": [
       "{'review/appearance': 2.5,\n",
       " 'beer/style': 'Hefeweizen',\n",
       " 'review/palate': 1.5,\n",
       " 'review/taste': 1.5,\n",
       " 'beer/name': 'Sausa Weizen',\n",
       " 'review/timeUnix': 1234817823,\n",
       " 'beer/ABV': 5.0,\n",
       " 'beer/beerId': '47986',\n",
       " 'beer/brewerId': '10325',\n",
       " 'review/timeStruct': {'isdst': 0,\n",
       "  'mday': 16,\n",
       "  'hour': 20,\n",
       "  'min': 57,\n",
       "  'sec': 3,\n",
       "  'mon': 2,\n",
       "  'year': 2009,\n",
       "  'yday': 47,\n",
       "  'wday': 0},\n",
       " 'review/overall': 1.5,\n",
       " 'review/text': 'A lot of foam. But a lot.\\tIn the smell some banana, and then lactic and tart. Not a good start.\\tQuite dark orange in color, with a lively carbonation (now visible, under the foam).\\tAgain tending to lactic sourness.\\tSame for the taste. With some yeast and banana.',\n",
       " 'user/profileName': 'stcules',\n",
       " 'review/aroma': 2.0}"
      ]
     },
     "execution_count": 6,
     "metadata": {},
     "output_type": "execute_result"
    }
   ],
   "source": [
    "data[0]"
   ]
  },
  {
   "cell_type": "code",
   "execution_count": 7,
   "id": "71c50da1",
   "metadata": {},
   "outputs": [],
   "source": [
    "y = [d['review/overall'] >= 4 for d in data]"
   ]
  },
  {
   "cell_type": "code",
   "execution_count": 9,
   "id": "f9685b42",
   "metadata": {},
   "outputs": [],
   "source": [
    "def feature_2(datum):\n",
    "    f = [1]\n",
    "    f.append(len(datum['review/text']))\n",
    "    return f"
   ]
  },
  {
   "cell_type": "code",
   "execution_count": 10,
   "id": "4a3098bc",
   "metadata": {},
   "outputs": [],
   "source": [
    "X = [feature_2(d) for d in data]  #feature vector"
   ]
  },
  {
   "cell_type": "code",
   "execution_count": 16,
   "id": "eb3103a3",
   "metadata": {},
   "outputs": [],
   "source": [
    "mod = linear_model.LogisticRegression(C=1.0, class_weight = 'balanced')"
   ]
  },
  {
   "cell_type": "code",
   "execution_count": 18,
   "id": "aac8e4a0",
   "metadata": {},
   "outputs": [],
   "source": [
    "# train and predict\n",
    "mod.fit(X,y)\n",
    "pred = mod.predict(X)"
   ]
  },
  {
   "cell_type": "code",
   "execution_count": 19,
   "id": "e08222eb",
   "metadata": {},
   "outputs": [],
   "source": [
    "# check the result\n",
    "correct = pred == y"
   ]
  },
  {
   "cell_type": "code",
   "execution_count": 21,
   "id": "0d6d61e1",
   "metadata": {},
   "outputs": [],
   "source": [
    "TP_ = np.logical_and(pred, y)\n",
    "FP_ = np.logical_and(pred, np.logical_not(y))\n",
    "TN_ = np.logical_and(np.logical_not(pred), np.logical_not(y))\n",
    "FN_ = np.logical_and(np.logical_not(pred), y)"
   ]
  },
  {
   "cell_type": "code",
   "execution_count": 22,
   "id": "df3f2e47",
   "metadata": {},
   "outputs": [
    {
     "data": {
      "text/plain": [
       "array([False, False, False, ..., False,  True, False])"
      ]
     },
     "execution_count": 22,
     "metadata": {},
     "output_type": "execute_result"
    }
   ],
   "source": [
    "TP_"
   ]
  },
  {
   "cell_type": "code",
   "execution_count": 344,
   "id": "767d1e3b",
   "metadata": {},
   "outputs": [],
   "source": [
    "#calculate TP, FP, TN, FN\n",
    "TP = sum(TP_)\n",
    "FP = sum(FP_)\n",
    "TN = sum(TN_)\n",
    "FN = sum(FN_)"
   ]
  },
  {
   "cell_type": "code",
   "execution_count": 345,
   "id": "b8083f27",
   "metadata": {},
   "outputs": [],
   "source": [
    "#calculate TPR and TNR\n",
    "TPR = TP/(TP+FN) # for those are positive in reality, what percentage is rightly predicted?\n",
    "TNR = TN/(FP+TN) # for those are negative in reality, what percentage is rightly predicted?"
   ]
  },
  {
   "cell_type": "code",
   "execution_count": 346,
   "id": "bc945c54",
   "metadata": {},
   "outputs": [
    {
     "data": {
      "text/plain": [
       "0.4683031525957275"
      ]
     },
     "execution_count": 346,
     "metadata": {},
     "output_type": "execute_result"
    }
   ],
   "source": [
    "Balanced_Error_Rates = 1 - 1/2 * (TPR + TNR)\n",
    "Balanced_Error_Rates"
   ]
  },
  {
   "cell_type": "code",
   "execution_count": 347,
   "id": "92e26b84",
   "metadata": {},
   "outputs": [
    {
     "name": "stdout",
     "output_type": "stream",
     "text": [
      "True Positive: 14201\n",
      "True Negative: 10503\n",
      "False Positve: 5885\n",
      "False Negative: 19411\n",
      "Balanced_Error_Rates: 0.46830315\n"
     ]
    }
   ],
   "source": [
    "#print values needed to be reported\n",
    "print('True Positive: %d' %TP)\n",
    "print('True Negative: %d' %TN)\n",
    "print('False Positve: %d' %FP)\n",
    "print('False Negative: %d' %FN)\n",
    "print('Balanced_Error_Rates: %.8f' %Balanced_Error_Rates)"
   ]
  },
  {
   "cell_type": "code",
   "execution_count": null,
   "id": "cf5b04da",
   "metadata": {},
   "outputs": [],
   "source": []
  },
  {
   "cell_type": "markdown",
   "id": "b6e516cc",
   "metadata": {},
   "source": [
    "Question 8"
   ]
  },
  {
   "cell_type": "code",
   "execution_count": 243,
   "id": "2f84db60",
   "metadata": {},
   "outputs": [],
   "source": [
    "scores = mod.decision_function(X)\n",
    "scores_labels = list(zip(scores, y))"
   ]
  },
  {
   "cell_type": "code",
   "execution_count": 246,
   "id": "7e8fbb03",
   "metadata": {},
   "outputs": [
    {
     "data": {
      "text/plain": [
       "[(1.4203973087785076, True),\n",
       " (1.4087148118810089, True),\n",
       " (1.3478242219910155, True),\n",
       " (1.312776731298519, True),\n",
       " (1.285871586928522, True),\n",
       " (1.2582584124435248, True),\n",
       " (1.2239189518660285, False),\n",
       " (1.199491912898531, True),\n",
       " (1.1803750997935332, True),\n",
       " (1.174356843816034, False)]"
      ]
     },
     "execution_count": 246,
     "metadata": {},
     "output_type": "execute_result"
    }
   ],
   "source": [
    "scores_labels.sort(reverse = True)    #sort values by confidence scores\n",
    "scores_labels[:10]"
   ]
  },
  {
   "cell_type": "code",
   "execution_count": 247,
   "id": "bb6e8b2c",
   "metadata": {},
   "outputs": [],
   "source": [
    "sortedlabels = [x[1] for x in scores_labels]"
   ]
  },
  {
   "cell_type": "code",
   "execution_count": 284,
   "id": "2cf7bbcd",
   "metadata": {},
   "outputs": [
    {
     "data": {
      "image/png": "[encoded data removed]",
      "text/plain": [
       "<Figure size 432x288 with 1 Axes>"
      ]
     },
     "metadata": {
      "needs_background": "light"
     },
     "output_type": "display_data"
    }
   ],
   "source": [
    "#draw the graph of precision@K with the change of K\n",
    "x = np.arange(1, 10001,200)\n",
    "y = []\n",
    "for m in x:\n",
    "    y.append(sum(sortedlabels[:m])/m)\n",
    "plt.plot(x,y)\n",
    "plt.show()"
   ]
  },
  {
   "cell_type": "code",
   "execution_count": null,
   "id": "e65b78f7",
   "metadata": {},
   "outputs": [],
   "source": []
  },
  {
   "cell_type": "markdown",
   "id": "d57423e8",
   "metadata": {},
   "source": [
    "Question 9"
   ]
  },
  {
   "cell_type": "code",
   "execution_count": 294,
   "id": "eb7d0b6a",
   "metadata": {},
   "outputs": [
    {
     "data": {
      "text/plain": [
       "[(1.4203973087785076, True),\n",
       " (1.4087148118810089, True),\n",
       " (1.3478242219910155, True),\n",
       " (1.312776731298519, True),\n",
       " (1.285871586928522, True),\n",
       " (1.2582584124435248, True),\n",
       " (1.2239189518660285, False),\n",
       " (1.199491912898531, True),\n",
       " (1.1803750997935332, True),\n",
       " (1.174356843816034, False),\n",
       " (1.171170708298534, True),\n",
       " (1.1573641210560357, True),\n",
       " (1.143203518756037, True),\n",
       " (1.1410794284110373, False),\n",
       " (1.133999127261038, True),\n",
       " (1.133999127261038, True),\n",
       " (1.1063859527760411, True),\n",
       " (1.1049698925460412, True),\n",
       " (1.0978895913960418, True),\n",
       " (1.0798348234635435, True)]"
      ]
     },
     "execution_count": 294,
     "metadata": {},
     "output_type": "execute_result"
    }
   ],
   "source": [
    "scores_labels[:20]"
   ]
  },
  {
   "cell_type": "code",
   "execution_count": 306,
   "id": "5c92ccec",
   "metadata": {},
   "outputs": [],
   "source": [
    "# define a function to check whether has the right prediction and record it\n",
    "def determination(i):\n",
    "    i = list(i)\n",
    "    if i[0]> 0 and i[1] == True:\n",
    "        m = 1\n",
    "    elif i[0]<0 and i[1] == False:\n",
    "        m = 1\n",
    "    else:\n",
    "        m = 0\n",
    "    # use the absolute value of confidence scores to represent the confidence\n",
    "    i[0] = np.abs(i[0])    \n",
    "    i.append(m)\n",
    "    return i"
   ]
  },
  {
   "cell_type": "code",
   "execution_count": 308,
   "id": "eb9c30a6",
   "metadata": {},
   "outputs": [
    {
     "data": {
      "text/plain": [
       "[[0.08682258717614921, True, 1],\n",
       " [0.08682258717614921, True, 1],\n",
       " [0.08682258717614921, True, 1],\n",
       " [0.08682258717614921, True, 1],\n",
       " [0.08682258717614921, True, 1],\n",
       " [0.08682258717614921, True, 1],\n",
       " [0.08682258717614921, False, 0],\n",
       " [0.08682258717614921, False, 0],\n",
       " [0.08682258717614921, False, 0],\n",
       " [0.08682258717614921, False, 0],\n",
       " [0.08682258717614921, False, 0],\n",
       " [0.08682258717614921, False, 0],\n",
       " [0.08682258717614921, False, 0],\n",
       " [0.08682258717614921, False, 0],\n",
       " [0.08682258717614921, False, 0],\n",
       " [0.08682258717614921, False, 0],\n",
       " [0.08682258717614921, False, 0],\n",
       " [0.08682258717614921, False, 0],\n",
       " [0.08682258717614921, False, 0],\n",
       " [0.08646857211864922, True, 1]]"
      ]
     },
     "execution_count": 308,
     "metadata": {},
     "output_type": "execute_result"
    }
   ],
   "source": [
    "brian = [determination(d) for d in scores_labels]\n",
    "brian[9980:10000]"
   ]
  },
  {
   "cell_type": "code",
   "execution_count": 309,
   "id": "a158d3ac",
   "metadata": {},
   "outputs": [
    {
     "data": {
      "text/plain": [
       "[[0.13868500445132687, True, 0],\n",
       " [0.13868500445132687, True, 0],\n",
       " [0.13868500445132687, True, 0],\n",
       " [0.13868500445132687, True, 0],\n",
       " [0.13868500445132687, True, 0],\n",
       " [0.13868500445132687, True, 0],\n",
       " [0.13868500445132687, True, 0],\n",
       " [0.13868500445132687, True, 0],\n",
       " [0.13868500445132687, True, 0],\n",
       " [0.13868500445132687, True, 0],\n",
       " [0.13868500445132687, True, 0],\n",
       " [0.13868500445132687, True, 0],\n",
       " [0.13868500445132687, True, 0],\n",
       " [0.13868500445132687, True, 0],\n",
       " [0.13868500445132687, True, 0],\n",
       " [0.13868500445132687, True, 0],\n",
       " [0.13868500445132687, True, 0],\n",
       " [0.13868500445132687, True, 0],\n",
       " [0.13868500445132687, True, 0],\n",
       " [0.13868500445132687, True, 0]]"
      ]
     },
     "execution_count": 309,
     "metadata": {},
     "output_type": "execute_result"
    }
   ],
   "source": [
    "brian.sort(reverse = True)\n",
    "brian[9980:10000]    #check the result after sorting"
   ]
  },
  {
   "cell_type": "code",
   "execution_count": 310,
   "id": "f78e8eb9",
   "metadata": {},
   "outputs": [],
   "source": [
    "brianlabels = [x[2] for x in brian]"
   ]
  },
  {
   "cell_type": "code",
   "execution_count": 332,
   "id": "ec7ff025",
   "metadata": {},
   "outputs": [
    {
     "data": {
      "image/png": "[encoded data removed]",
      "text/plain": [
       "<Figure size 432x288 with 1 Axes>"
      ]
     },
     "metadata": {
      "needs_background": "light"
     },
     "output_type": "display_data"
    }
   ],
   "source": [
    "#draw the graph of precision@K with the change of K\n",
    "x = np.arange(1, 10001,200)\n",
    "y = []\n",
    "for m in x:\n",
    "    y.append(sum(brianlabels[:m])/m)\n",
    "plt.plot(x,y)\n",
    "plt.show()"
   ]
  },
  {
   "cell_type": "code",
   "execution_count": 331,
   "id": "f26b2d63",
   "metadata": {},
   "outputs": [
    {
     "name": "stdout",
     "output_type": "stream",
     "text": [
      "1.0\n",
      "0.75\n",
      "0.6183\n"
     ]
    }
   ],
   "source": [
    "#report precision@K for K = 1, 100, 10000\n",
    "precision1 = sum(brianlabels[:1])/1\n",
    "precision100 = sum(brianlabels[:100])/100\n",
    "precision10000 = sum(brianlabels[:10000])/10000\n",
    "print(precision1)\n",
    "print(precision100)\n",
    "print(precision10000)"
   ]
  },
  {
   "cell_type": "code",
   "execution_count": null,
   "id": "2d473dfb",
   "metadata": {},
   "outputs": [],
   "source": []
  },
  {
   "cell_type": "code",
   "execution_count": null,
   "id": "0ad16298",
   "metadata": {},
   "outputs": [],
   "source": []
  }
 ],
 "metadata": {
  "kernelspec": {
   "display_name": "Python 3 (ipykernel)",
   "language": "python",
   "name": "python3"
  },
  "language_info": {
   "codemirror_mode": {
    "name": "ipython",
    "version": 3
   },
   "file_extension": ".py",
   "mimetype": "text/x-python",
   "name": "python",
   "nbconvert_exporter": "python",
   "pygments_lexer": "ipython3",
   "version": "3.7.11"
  }
 },
 "nbformat": 4,
 "nbformat_minor": 5
}
